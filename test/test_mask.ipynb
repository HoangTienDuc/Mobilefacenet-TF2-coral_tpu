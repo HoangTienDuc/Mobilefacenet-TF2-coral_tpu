{
 "cells": [
  {
   "cell_type": "code",
   "execution_count": 1,
   "metadata": {
    "collapsed": true
   },
   "outputs": [],
   "source": [
    "%load_ext autoreload\n",
    "%autoreload 2"
   ]
  },
  {
   "cell_type": "code",
   "execution_count": 2,
   "outputs": [],
   "source": [
    "import tensorflow as tf\n",
    "import tflite_runtime.interpreter as tflite\n",
    "from FaceRecognizer import get_quant_int8_output"
   ],
   "metadata": {
    "collapsed": false,
    "pycharm": {
     "name": "#%%\n"
    }
   }
  },
  {
   "cell_type": "code",
   "execution_count": 3,
   "outputs": [],
   "source": [
    "REC_MODEL_PATH = \"/home/yzy/PycharmProjects/Mobilefacenet-TF2/model/mbfacenet_mask_quant.tflite\"\n",
    "interpreter_rec = tf.compat.v1.lite.Interpreter(model_path=REC_MODEL_PATH)\n",
    "interpreter_rec.allocate_tensors()"
   ],
   "metadata": {
    "collapsed": false,
    "pycharm": {
     "name": "#%%\n"
    }
   }
  },
  {
   "cell_type": "code",
   "execution_count": 4,
   "outputs": [],
   "source": [
    "input_index = interpreter_rec.get_input_details()[0]['index']\n",
    "embeds_output_index = interpreter_rec.get_output_details()[1]['index']\n",
    "mask_output_index = interpreter_rec.get_output_details()[0]['index']"
   ],
   "metadata": {
    "collapsed": false,
    "pycharm": {
     "name": "#%%\n"
    }
   }
  },
  {
   "cell_type": "code",
   "execution_count": 5,
   "outputs": [
    {
     "name": "stdout",
     "output_type": "stream",
     "text": [
      "['with_mask' 'without_mask']\n"
     ]
    }
   ],
   "source": [
    "from sklearn.model_selection import train_test_split\n",
    "from sklearn.preprocessing import LabelEncoder\n",
    "import os\n",
    "\n",
    "data_path = \"/home/yzy/Downloads/Face-Mask-Detection-master/dataset\"\n",
    "def load_mask_dataset():\n",
    "    X, y = [], []\n",
    "    for root, dirs, filenames in os.walk(data_path):\n",
    "        for file in filenames:\n",
    "            if os.path.splitext(file)[-1] == '.png' or os.path.splitext(file)[-1] == '.jpg':\n",
    "                X.append(os.path.join(root, file))\n",
    "                y.append(os.path.split(root)[-1])\n",
    "    le = LabelEncoder()\n",
    "    y = le.fit_transform(y)\n",
    "    print(le.classes_)\n",
    "    trainX, testX, trainy, testy = train_test_split(X, y, test_size=0.1)\n",
    "    return trainX, testX, trainy, testy\n",
    "\n",
    "def preprocess(x, y):\n",
    "    # x: directory，y：label\n",
    "    x = tf.io.read_file(x)\n",
    "    x = tf.image.decode_jpeg(x, channels=3) # RGBA\n",
    "    x = tf.image.resize(x, [112, 96])\n",
    "\n",
    "    x = tf.image.random_flip_left_right(x)\n",
    "\n",
    "    # x: [0,255]=> -1~1\n",
    "    # x = (tf.cast(x, dtype=tf.float32) - 127.5) / 128.0\n",
    "    x = tf.cast(x, dtype=tf.uint8)\n",
    "    y = tf.convert_to_tensor(y)\n",
    "    y = tf.one_hot(y, depth=2)\n",
    "\n",
    "    return x, y\n",
    "\n",
    "# get data slices\n",
    "train_image, val_image, train_label, val_label = load_mask_dataset()"
   ],
   "metadata": {
    "collapsed": false,
    "pycharm": {
     "name": "#%%\n"
    }
   }
  },
  {
   "cell_type": "code",
   "execution_count": 6,
   "outputs": [],
   "source": [
    "# construct input pipeline\n",
    "batchsz = 8\n",
    "db_train = tf.data.Dataset.from_tensor_slices((train_image, train_label))     # construct train dataset\n",
    "db_train = db_train.shuffle(1000).map(preprocess).batch(batchsz)\n",
    "db_val = tf.data.Dataset.from_tensor_slices((val_image, val_label))\n",
    "db_val = db_val.shuffle(1000).map(preprocess).batch(batchsz)"
   ],
   "metadata": {
    "collapsed": false,
    "pycharm": {
     "name": "#%%\n"
    }
   }
  },
  {
   "cell_type": "code",
   "execution_count": 7,
   "outputs": [],
   "source": [
    "test_data = next(iter(db_val))"
   ],
   "metadata": {
    "collapsed": false,
    "pycharm": {
     "name": "#%%\n"
    }
   }
  },
  {
   "cell_type": "code",
   "execution_count": 8,
   "outputs": [
    {
     "name": "stdout",
     "output_type": "stream",
     "text": [
      "(112, 96, 3)\n",
      "[[0.         0.99609375]]\n",
      "(112, 96, 3)\n",
      "[[0.99609375 0.00390625]]\n",
      "(112, 96, 3)\n",
      "[[0.99609375 0.        ]]\n",
      "(112, 96, 3)\n",
      "[[0.99609375 0.        ]]\n",
      "(112, 96, 3)\n",
      "[[0.         0.99609375]]\n",
      "(112, 96, 3)\n",
      "[[0.         0.99609375]]\n",
      "(112, 96, 3)\n",
      "[[0.98828125 0.01171875]]\n",
      "(112, 96, 3)\n",
      "[[0.95703125 0.04296875]]\n"
     ]
    }
   ],
   "source": [
    "scale, zero = interpreter_rec.get_input_details()[0]['quantization']\n",
    "for d in test_data[0]:\n",
    "\n",
    "    print(d.shape)\n",
    "    # d = (d / scale) + zero\n",
    "    # d = tf.uint8(d)\n",
    "    # print(d.shape)\n",
    "    d = tf.expand_dims(d, axis=0)\n",
    "    d = tf.convert_to_tensor(d, dtype=tf.uint8)\n",
    "    interpreter_rec.set_tensor(input_index, d)\n",
    "    interpreter_rec.invoke()\n",
    "    print(get_quant_int8_output(interpreter_rec, mask_output_index))"
   ],
   "metadata": {
    "collapsed": false,
    "pycharm": {
     "name": "#%%\n"
    }
   }
  },
  {
   "cell_type": "code",
   "execution_count": 9,
   "outputs": [
    {
     "data": {
      "text/plain": "<tf.Tensor: shape=(8, 2), dtype=float32, numpy=\narray([[0., 1.],\n       [1., 0.],\n       [1., 0.],\n       [1., 0.],\n       [0., 1.],\n       [0., 1.],\n       [1., 0.],\n       [1., 0.]], dtype=float32)>"
     },
     "execution_count": 9,
     "metadata": {},
     "output_type": "execute_result"
    }
   ],
   "source": [
    "test_data[1]"
   ],
   "metadata": {
    "collapsed": false,
    "pycharm": {
     "name": "#%%\n"
    }
   }
  },
  {
   "cell_type": "code",
   "execution_count": 12,
   "outputs": [],
   "source": [
    "# test edge_tpu\n",
    "TPU_MODEL = \"/home/yzy/PycharmProjects/Mobilefacenet-TF2/model/model_with_mask_clf_quant_edgetpu.tflite\"\n",
    "interpreter_tpu = tflite.Interpreter(model_path=TPU_MODEL,\n",
    "                                             experimental_delegates=[tflite.load_delegate(\"libedgetpu.so.1\")])\n",
    "interpreter_tpu.allocate_tensors()"
   ],
   "metadata": {
    "collapsed": false,
    "pycharm": {
     "name": "#%%\n"
    }
   }
  },
  {
   "cell_type": "code",
   "execution_count": 13,
   "outputs": [],
   "source": [
    "input_index_tpu = interpreter_tpu.get_input_details()[0]['index']\n",
    "embeds_output_index_tpu = interpreter_tpu.get_output_details()[1]['index']\n",
    "mask_output_index_tpu = interpreter_tpu.get_output_details()[0]['index']\n"
   ],
   "metadata": {
    "collapsed": false,
    "pycharm": {
     "name": "#%%\n"
    }
   }
  },
  {
   "cell_type": "code",
   "execution_count": 19,
   "outputs": [
    {
     "name": "stdout",
     "output_type": "stream",
     "text": [
      "[[0.         0.99609375]]\n",
      "[[0.99609375 0.00390625]]\n",
      "[[0.99609375 0.        ]]\n",
      "[[0.99609375 0.        ]]\n",
      "[[0.         0.99609375]]\n",
      "[[0.         0.99609375]]\n",
      "[[0.99609375 0.00390625]]\n",
      "[[0.9921875 0.0078125]]\n"
     ]
    }
   ],
   "source": [
    "for d in test_data[0]:\n",
    "\n",
    "    # print(d.shape)\n",
    "    # d = (d / scale) + zero\n",
    "    # d = tf.uint8(d)\n",
    "    # print(d.shape)\n",
    "    d = tf.expand_dims(d, axis=0)\n",
    "    d = tf.convert_to_tensor(d, dtype=tf.uint8)\n",
    "    interpreter_tpu.set_tensor(input_index_tpu , d)\n",
    "    interpreter_tpu.invoke()\n",
    "    print(get_quant_int8_output(interpreter_tpu, mask_output_index_tpu))"
   ],
   "metadata": {
    "collapsed": false,
    "pycharm": {
     "name": "#%%\n"
    }
   }
  },
  {
   "cell_type": "code",
   "execution_count": null,
   "outputs": [],
   "source": [],
   "metadata": {
    "collapsed": false,
    "pycharm": {
     "name": "#%%\n"
    }
   }
  }
 ],
 "metadata": {
  "kernelspec": {
   "display_name": "Python 3",
   "language": "python",
   "name": "python3"
  },
  "language_info": {
   "codemirror_mode": {
    "name": "ipython",
    "version": 2
   },
   "file_extension": ".py",
   "mimetype": "text/x-python",
   "name": "python",
   "nbconvert_exporter": "python",
   "pygments_lexer": "ipython2",
   "version": "2.7.6"
  }
 },
 "nbformat": 4,
 "nbformat_minor": 0
}